{
 "cells": [
  {
   "cell_type": "code",
   "execution_count": null,
   "metadata": {},
   "outputs": [],
   "source": [
    "import sys\n",
    "sys.path.insert(0,'../src/')\n",
    "\n",
    "import os\n",
    "\n",
    "from data.make_dataset import *\n",
    "from visualization.visualize import *\n",
    "from models.models import *\n",
    "\n",
    "%load_ext autoreload\n",
    "%autoreload 1"
   ]
  },
  {
   "cell_type": "code",
   "execution_count": null,
   "metadata": {},
   "outputs": [],
   "source": [
    "import torch\n",
    "import numpy\n",
    "\n",
    "if torch.cuda.is_available():\n",
    "    prop = torch.cuda.get_device_properties(0)\n",
    "    print(f\"Using {prop.name} with {np.round(prop.total_memory/1e9, 2)}GB of RAM\")\n",
    "else:\n",
    "    print(\"Using CPU\")"
   ]
  },
  {
   "cell_type": "markdown",
   "metadata": {},
   "source": [
    "# Load Data"
   ]
  },
  {
   "cell_type": "code",
   "execution_count": null,
   "metadata": {},
   "outputs": [],
   "source": [
    "channel_size = 3\n",
    "image_size = 64\n",
    "batch_size = 128\n",
    "workers = 10"
   ]
  },
  {
   "cell_type": "code",
   "execution_count": null,
   "metadata": {},
   "outputs": [],
   "source": [
    "%%time\n",
    "data_loader = make_dataloader(\"../data/raw/planctons_original\", image_size, batch_size, workers)"
   ]
  },
  {
   "cell_type": "markdown",
   "metadata": {},
   "source": [
    "## Visualize Data"
   ]
  },
  {
   "cell_type": "code",
   "execution_count": null,
   "metadata": {},
   "outputs": [],
   "source": [
    "print_samples(data_loader)"
   ]
  },
  {
   "cell_type": "markdown",
   "metadata": {},
   "source": [
    "# Load Models"
   ]
  },
  {
   "cell_type": "code",
   "execution_count": null,
   "metadata": {},
   "outputs": [],
   "source": [
    "latent_size = 100\n",
    "feature_map_size = 64"
   ]
  },
  {
   "cell_type": "code",
   "execution_count": null,
   "metadata": {},
   "outputs": [],
   "source": [
    "beta = 0.5\n",
    "lr = 0.0002\n",
    "num_epochs = 2"
   ]
  },
  {
   "cell_type": "code",
   "execution_count": null,
   "metadata": {},
   "outputs": [],
   "source": [
    "g = DCGAN_Generator(latent_size, feature_map_size, channel_size)\n",
    "d = DCGAN_Discriminator(feature_map_size, channel_size)\n",
    "\n",
    "gan = GAN(d, g, lr, beta)"
   ]
  },
  {
   "cell_type": "markdown",
   "metadata": {},
   "source": [
    "# Train Model"
   ]
  },
  {
   "cell_type": "code",
   "execution_count": null,
   "metadata": {},
   "outputs": [],
   "source": [
    "%%time\n",
    "gan.train(data_loader, 1)"
   ]
  },
  {
   "cell_type": "markdown",
   "metadata": {},
   "source": [
    "## Persist model"
   ]
  },
  {
   "cell_type": "code",
   "execution_count": null,
   "metadata": {},
   "outputs": [],
   "source": [
    "outdir = os.path.join('..', 'models', 'version_0')\n",
    "outfile = 'gan.pkl'\n",
    "\n",
    "gan.persist(outdir, outfile)"
   ]
  },
  {
   "cell_type": "markdown",
   "metadata": {},
   "source": [
    "## Random Search"
   ]
  },
  {
   "cell_type": "raw",
   "metadata": {},
   "source": [
    "latent_size = 100\n",
    "feature_map_size = 64\n",
    "\n",
    "params_list = [{'beta': 0.5, 'lr': 0.002, 'num_epochs': 200},\n",
    "               {'beta': 0.5, 'lr': 0.02, 'num_epochs': 200},\n",
    "               {'beta': 0.5, 'lr': 0.0002, 'num_epochs': 200}]"
   ]
  },
  {
   "cell_type": "raw",
   "metadata": {},
   "source": [
    "%%time\n",
    "i = 0\n",
    "for params in params_list:\n",
    "    i += 1\n",
    "    print(f'\\n------------------------\\nAttempt {i}')\n",
    "    \n",
    "    g = DCGAN_Generator(latent_size, feature_map_size, channel_size)\n",
    "    d = DCGAN_Discriminator(feature_map_size, channel_size)\n",
    "\n",
    "    gan = GAN(d, g, params['lr'], params['beta'])\n",
    "    gan.train(data_loader, params['num_epochs']) \n",
    "    \n",
    "    plot_loss(gan.G_losses, gan.D_losses, img_path=f'../reports/model_analysis/loss_{i}.png')\n",
    "    generator_progress(gan.img_list, gif_path=f'../reports/model_analysis/progress_{i}.gif')\n",
    "    compare_fake_real(data_loader, gan.device, gan.img_list, img_path=f'../reports/model_analysis/comparison_{i}.png')"
   ]
  },
  {
   "cell_type": "markdown",
   "metadata": {},
   "source": [
    "## Visualize training stats"
   ]
  },
  {
   "cell_type": "code",
   "execution_count": null,
   "metadata": {},
   "outputs": [],
   "source": [
    "g_loss = [i[1] for i in gan.loss['discriminator']]\n",
    "d_loss = [i[1] for i in gan.loss['generator']]"
   ]
  },
  {
   "cell_type": "code",
   "execution_count": null,
   "metadata": {},
   "outputs": [],
   "source": [
    "plot_loss(d_loss, g_loss)#, img_path=f'../reports/model_analysis/loss_{5}.png')"
   ]
  },
  {
   "cell_type": "code",
   "execution_count": null,
   "metadata": {},
   "outputs": [],
   "source": [
    "generator_progress(gan.img_list)#, gif_path=f'../reports/model_analysis/progress_{5}.png')"
   ]
  },
  {
   "cell_type": "code",
   "execution_count": null,
   "metadata": {},
   "outputs": [],
   "source": [
    "compare_fake_real(data_loader, gan.device, gan.img_list, img_path=f'../reports/model_analysis/comparison_{5}.png')"
   ]
  },
  {
   "cell_type": "markdown",
   "metadata": {},
   "source": [
    "## Use models"
   ]
  },
  {
   "cell_type": "code",
   "execution_count": null,
   "metadata": {},
   "outputs": [],
   "source": [
    "fake_batch = gan.generate(torch.randn(64, gan.generator.latent_size, 1, 1, device=gan.device))\n",
    "print_batch_images([fake_batch], gan.device)"
   ]
  },
  {
   "cell_type": "code",
   "execution_count": null,
   "metadata": {},
   "outputs": [],
   "source": [
    "img_data = next(iter(data_loader))[0]\n",
    "gan.predict_discriminator(img_data)"
   ]
  },
  {
   "cell_type": "markdown",
   "metadata": {},
   "source": [
    "# Load trained gan"
   ]
  },
  {
   "cell_type": "code",
   "execution_count": null,
   "metadata": {},
   "outputs": [],
   "source": [
    "gan = GAN.load(os.path.join(outdir, outfile))"
   ]
  }
 ],
 "metadata": {
  "kernelspec": {
   "display_name": "ganenv",
   "language": "python",
   "name": "ganenv"
  },
  "language_info": {
   "codemirror_mode": {
    "name": "ipython",
    "version": 3
   },
   "file_extension": ".py",
   "mimetype": "text/x-python",
   "name": "python",
   "nbconvert_exporter": "python",
   "pygments_lexer": "ipython3",
   "version": "3.8.1"
  }
 },
 "nbformat": 4,
 "nbformat_minor": 4
}
